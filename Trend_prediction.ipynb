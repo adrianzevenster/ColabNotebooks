{
  "nbformat": 4,
  "nbformat_minor": 0,
  "metadata": {
    "colab": {
      "provenance": [],
      "toc_visible": true,
      "authorship_tag": "ABX9TyOgpFFUfmgQyBMC53ybhITc",
      "include_colab_link": true
    },
    "kernelspec": {
      "name": "python3",
      "display_name": "Python 3"
    },
    "language_info": {
      "name": "python"
    }
  },
  "cells": [
    {
      "cell_type": "markdown",
      "metadata": {
        "id": "view-in-github",
        "colab_type": "text"
      },
      "source": [
        "<a href=\"https://colab.research.google.com/github/adrianzevenster/ColabNotebooks/blob/main/Trend_prediction.ipynb\" target=\"_parent\"><img src=\"https://colab.research.google.com/assets/colab-badge.svg\" alt=\"Open In Colab\"/></a>"
      ]
    },
    {
      "cell_type": "code",
      "metadata": {
        "id": "bi85LQFSNpzZ"
      },
      "source": [
        "from google.colab import auth\n",
        "auth.authenticate_user()"
      ],
      "execution_count": null,
      "outputs": []
    },
    {
      "cell_type": "code",
      "metadata": {
        "id": "5WJ-dl6iddEP"
      },
      "source": [
        "!pip install -e git+https://github.com/SohierDane/BigQuery_Helper#egg=bq_helper"
      ],
      "execution_count": null,
      "outputs": []
    },
    {
      "cell_type": "code",
      "metadata": {
        "id": "voLRHnuvOd-N"
      },
      "source": [
        "from google.cloud import bigquery\n",
        "project_id = 'avantiate-task-21'\n",
        "bq_ds = 'bigquery-public-data.google_trends.top_terms'\n",
        "\n",
        "client = bigquery.Client(project=project_id)\n",
        "ds_ref = client.dataset(bq_ds)\n",
        "\n",
        "def gcp2df(sql):\n",
        "  query = client.query(sql)\n",
        "  results = query.result()\n",
        "  return results.to_dataframe()\n",
        "\n",
        "\n",
        "query = \"\"\" SELECT EXTRACT(YEAR from week) as search_year,\n",
        "  EXTRACT(MONTH from week) as search_month,\n",
        "  dma_name,\n",
        "  dma_id, term,\n",
        "  week,\n",
        "  score\n",
        "  FROM `bigquery-public-data.google_trends.top_terms`\n",
        "  WHERE week >= '2020-01-01'\n",
        "  LIMIT 23000\"\"\"\n",
        "\n",
        "df = gcp2df(query)\n",
        "print(df)"
      ],
      "execution_count": null,
      "outputs": []
    },
    {
      "cell_type": "code",
      "metadata": {
        "id": "C8ABL9DYcKS8"
      },
      "source": [
        "#df = df.dropna(axis=0)\n",
        "#print(df.isna())"
      ],
      "execution_count": null,
      "outputs": []
    },
    {
      "cell_type": "code",
      "metadata": {
        "id": "0wHLJye3dvNU"
      },
      "source": [
        "import pandas as pd\n",
        "import matplotlib.pyplot as plt\n",
        "df[\"refresh_date\"] = pd.to_datetime(df[\"refresh_date\"])\n",
        "df[\"refresh_date\"] = df[\"refresh_date\"].dt.year\n",
        "df[\"week\"] = pd.to_datetime(df[\"refresh_date\"])\n",
        "df[\"week\"] = df[\"week\"].dt.month\n",
        "df.head()\n",
        "\n"
      ],
      "execution_count": null,
      "outputs": []
    },
    {
      "cell_type": "code",
      "metadata": {
        "id": "Ljugvicge1bJ"
      },
      "source": [
        "df.corr()\n",
        "df.dropna()"
      ],
      "execution_count": null,
      "outputs": []
    },
    {
      "cell_type": "code",
      "metadata": {
        "colab": {
          "base_uri": "https://localhost:8080/"
        },
        "id": "dWJ8o6L62QGr",
        "outputId": "f80fd07d-e10a-42ec-bb7e-c8f1ed208eb1"
      },
      "source": [
        "from sklearn.preprocessing import OrdinalEncoder\n",
        "ordinal_encoder_text_term = OrdinalEncoder()\n",
        "df_term_col = df[[\"term\"]]\n",
        "df_term_encoded = ordinal_encoder_text_term.fit_transform(df_term_col)\n",
        "ordinal_encoder_text_term.categories_"
      ],
      "execution_count": null,
      "outputs": [
        {
          "output_type": "execute_result",
          "data": {
            "text/plain": [
              "[array(['F1', 'PSG'], dtype=object)]"
            ]
          },
          "metadata": {},
          "execution_count": 53
        }
      ]
    },
    {
      "cell_type": "code",
      "metadata": {
        "id": "TdZnZPN-FYqx"
      },
      "source": [
        "ordinal_encoder_text_term.fit_transform(df[[\"dma_id\"]])\n",
        "ordinal_encoder_text_term.categories_\n",
        "print(df['dma_id'])"
      ],
      "execution_count": null,
      "outputs": []
    },
    {
      "cell_type": "code",
      "metadata": {
        "id": "GOL47fpURUhy"
      },
      "source": [
        "import numpy as np\n",
        "def prep_data(target, win_X, window_y):\n",
        "  X, y = [], []\n",
        "  n = len(target)\n",
        "\n",
        "  start_X = 0\n",
        "  end_X = start_X + win_X\n",
        "  start_y = end_X\n",
        "  end_y = start_y + window_y\n",
        "  for _ in range(n):\n",
        "    if end_y < n:\n",
        "      X.append(target[start_X:end_X])\n",
        "      y.append(target[start_y:end_y])\n",
        "    start_X += 1\n",
        "    end_X = start_X + win_X\n",
        "    start_y += 1\n",
        "    end_y = start_y + window_y\n",
        "\n",
        "  X = np.array(X)\n",
        "  y = np.array(y)\n",
        "  return X, y\n",
        "\n",
        "prep_data(df, 12, 6)"
      ],
      "execution_count": null,
      "outputs": []
    },
    {
      "cell_type": "code",
      "metadata": {
        "id": "VORDHju8UqgR"
      },
      "source": [
        "X = prep_data(df, 12, 6)[0]\n",
        "y = prep_data(df, 12, 6)[1]\n",
        "train = 100\n",
        "X_train = X[:train]\n",
        "y_train = y[:train]\n",
        "x_valid = X[train:]\n",
        "y_valid = y[train:]"
      ],
      "execution_count": null,
      "outputs": []
    },
    {
      "cell_type": "code",
      "metadata": {
        "id": "3CJ_WVtsqWJ-"
      },
      "source": [],
      "execution_count": null,
      "outputs": []
    },
    {
      "cell_type": "code",
      "metadata": {
        "id": "HDG3cp-xVBHK",
        "colab": {
          "base_uri": "https://localhost:8080/",
          "height": 217
        },
        "outputId": "89390a78-7536-4d38-8bac-8d5068a3bbae"
      },
      "source": [
        "from keras.models import Sequential\n",
        "from keras.layers import Dense, Activation, InputLayer\n",
        "from tensorflow.keras.optimizers import Adam\n",
        "from tensorflow.keras.callbacks import EarlyStopping, ModelCheckpoint\n",
        "\n",
        "# Load the Drive helper and mount\n",
        "from google.colab import drive\n",
        "\n",
        "# This will prompt for authorization.\n",
        "drive.mount('/content/drive')\n",
        "\n",
        "\n",
        "def model_fit(type, X_train, y_train, X_test, y_test, batch_size, epochs):\n",
        "  model = Sequential()\n",
        "  model.add(InputLayer(input_shape= (X_train.shape[1], )))\n",
        "\n",
        "  if type == 'mlp':\n",
        "    model.add(Reshape(target_shape=(X_train.shape[1], )))\n",
        "    model.add(Dense(unit= 64, activation= 'relu'))\n",
        "\n",
        "  if type == 'cnn':\n",
        "    model.add(Reshape(target_shape=(X_train.shape[1], 1)))\n",
        "    model.add(Conv1D(filters= 64, kernel_size=4, activation= 'relu'))\n",
        "    model.add(MaxPool1D())\n",
        "    model.add(Flatten())\n",
        "\n",
        "  if type == 'lstm':\n",
        "    model.add(Reshape(target_shape=(X_train.shape[1], 1)))\n",
        "    model.add(LSTM(units=64, return_sequences= False))\n",
        "\n",
        "  model.add(Dense(units= 64, activation= 'relu'))\n",
        "  model.add(Dense(units= y_train.shape[0], activation= 'sigmoid'))\n",
        "\n",
        "  model.compile(optimizer= 'adam', loss= 'mse')\n",
        "\n",
        "  early_stopping = EarlyStopping(monitor= 'val_loss', patience= 10)\n",
        "  model_checkpoint = ModelCheckpoint(filepath= 'content/sample_data/model.h5', save_best_only= True)\n",
        "  callbacks = [early_stopping, model_checkpoint]\n",
        "\n",
        "\n",
        "  model.fit(X, y, validation_data= (X_test, y_test),\n",
        "            batch_size= batch_size, epochs= epochs, callbacks= callbacks)\n",
        "\n",
        "  model.load_weights('model.h5')\n",
        "\n",
        "\n",
        "  return model\n",
        "\n",
        "model_fit(type, X_train, y_train, x_valid, y_valid, 42, 10)"
      ],
      "execution_count": null,
      "outputs": [
        {
          "output_type": "stream",
          "name": "stdout",
          "text": [
            "Mounted at /content/drive\n"
          ]
        },
        {
          "output_type": "error",
          "ename": "NameError",
          "evalue": "ignored",
          "traceback": [
            "\u001b[0;31m---------------------------------------------------------------------------\u001b[0m",
            "\u001b[0;31mNameError\u001b[0m                                 Traceback (most recent call last)",
            "\u001b[0;32m<ipython-input-2-1065addec629>\u001b[0m in \u001b[0;36m<module>\u001b[0;34m()\u001b[0m\n\u001b[1;32m     47\u001b[0m   \u001b[0;32mreturn\u001b[0m \u001b[0mmodel\u001b[0m\u001b[0;34m\u001b[0m\u001b[0;34m\u001b[0m\u001b[0m\n\u001b[1;32m     48\u001b[0m \u001b[0;34m\u001b[0m\u001b[0m\n\u001b[0;32m---> 49\u001b[0;31m \u001b[0mmodel_fit\u001b[0m\u001b[0;34m(\u001b[0m\u001b[0mtype\u001b[0m\u001b[0;34m,\u001b[0m \u001b[0mX_train\u001b[0m\u001b[0;34m,\u001b[0m \u001b[0my_train\u001b[0m\u001b[0;34m,\u001b[0m \u001b[0mx_valid\u001b[0m\u001b[0;34m,\u001b[0m \u001b[0my_valid\u001b[0m\u001b[0;34m,\u001b[0m \u001b[0;36m42\u001b[0m\u001b[0;34m,\u001b[0m \u001b[0;36m10\u001b[0m\u001b[0;34m)\u001b[0m\u001b[0;34m\u001b[0m\u001b[0;34m\u001b[0m\u001b[0m\n\u001b[0m",
            "\u001b[0;31mNameError\u001b[0m: name 'X_train' is not defined"
          ]
        }
      ]
    }
  ]
}